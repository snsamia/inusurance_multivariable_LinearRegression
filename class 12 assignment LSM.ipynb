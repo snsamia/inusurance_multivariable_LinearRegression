{
 "cells": [
  {
   "cell_type": "code",
   "execution_count": 1,
   "id": "5ecfdca2",
   "metadata": {},
   "outputs": [],
   "source": [
    "import pandas as pd\n",
    "import numpy as np\n",
    "\n",
    "import seaborn as sns\n",
    "from matplotlib import pyplot as plt\n",
    "import warnings \n",
    "warnings.filterwarnings('ignore')"
   ]
  },
  {
   "cell_type": "code",
   "execution_count": 2,
   "id": "8859caed",
   "metadata": {},
   "outputs": [],
   "source": [
    "df = pd.read_csv('H:\\\\AiQuest\\\\Ai& ML\\\\practice\\\\class 6\\\\assignment\\\\insurance.csv')"
   ]
  },
  {
   "cell_type": "code",
   "execution_count": 3,
   "id": "5ec02e1e",
   "metadata": {},
   "outputs": [
    {
     "data": {
      "text/html": [
       "<div>\n",
       "<style scoped>\n",
       "    .dataframe tbody tr th:only-of-type {\n",
       "        vertical-align: middle;\n",
       "    }\n",
       "\n",
       "    .dataframe tbody tr th {\n",
       "        vertical-align: top;\n",
       "    }\n",
       "\n",
       "    .dataframe thead th {\n",
       "        text-align: right;\n",
       "    }\n",
       "</style>\n",
       "<table border=\"1\" class=\"dataframe\">\n",
       "  <thead>\n",
       "    <tr style=\"text-align: right;\">\n",
       "      <th></th>\n",
       "      <th>age</th>\n",
       "      <th>sex</th>\n",
       "      <th>bmi</th>\n",
       "      <th>children</th>\n",
       "      <th>smoker</th>\n",
       "      <th>region</th>\n",
       "      <th>charges</th>\n",
       "    </tr>\n",
       "  </thead>\n",
       "  <tbody>\n",
       "    <tr>\n",
       "      <th>0</th>\n",
       "      <td>19</td>\n",
       "      <td>female</td>\n",
       "      <td>27.900</td>\n",
       "      <td>0</td>\n",
       "      <td>yes</td>\n",
       "      <td>southwest</td>\n",
       "      <td>16884.92400</td>\n",
       "    </tr>\n",
       "    <tr>\n",
       "      <th>1</th>\n",
       "      <td>18</td>\n",
       "      <td>male</td>\n",
       "      <td>33.770</td>\n",
       "      <td>1</td>\n",
       "      <td>no</td>\n",
       "      <td>southeast</td>\n",
       "      <td>1725.55230</td>\n",
       "    </tr>\n",
       "    <tr>\n",
       "      <th>2</th>\n",
       "      <td>28</td>\n",
       "      <td>male</td>\n",
       "      <td>33.000</td>\n",
       "      <td>3</td>\n",
       "      <td>no</td>\n",
       "      <td>southeast</td>\n",
       "      <td>4449.46200</td>\n",
       "    </tr>\n",
       "    <tr>\n",
       "      <th>3</th>\n",
       "      <td>33</td>\n",
       "      <td>male</td>\n",
       "      <td>22.705</td>\n",
       "      <td>0</td>\n",
       "      <td>no</td>\n",
       "      <td>northwest</td>\n",
       "      <td>21984.47061</td>\n",
       "    </tr>\n",
       "    <tr>\n",
       "      <th>4</th>\n",
       "      <td>32</td>\n",
       "      <td>male</td>\n",
       "      <td>28.880</td>\n",
       "      <td>0</td>\n",
       "      <td>no</td>\n",
       "      <td>northwest</td>\n",
       "      <td>3866.85520</td>\n",
       "    </tr>\n",
       "  </tbody>\n",
       "</table>\n",
       "</div>"
      ],
      "text/plain": [
       "   age     sex     bmi  children smoker     region      charges\n",
       "0   19  female  27.900         0    yes  southwest  16884.92400\n",
       "1   18    male  33.770         1     no  southeast   1725.55230\n",
       "2   28    male  33.000         3     no  southeast   4449.46200\n",
       "3   33    male  22.705         0     no  northwest  21984.47061\n",
       "4   32    male  28.880         0     no  northwest   3866.85520"
      ]
     },
     "execution_count": 3,
     "metadata": {},
     "output_type": "execute_result"
    }
   ],
   "source": [
    "df.head()"
   ]
  },
  {
   "cell_type": "code",
   "execution_count": 4,
   "id": "51fe8950",
   "metadata": {},
   "outputs": [
    {
     "name": "stdout",
     "output_type": "stream",
     "text": [
      "<class 'pandas.core.frame.DataFrame'>\n",
      "RangeIndex: 1338 entries, 0 to 1337\n",
      "Data columns (total 7 columns):\n",
      " #   Column    Non-Null Count  Dtype  \n",
      "---  ------    --------------  -----  \n",
      " 0   age       1338 non-null   int64  \n",
      " 1   sex       1338 non-null   object \n",
      " 2   bmi       1338 non-null   float64\n",
      " 3   children  1338 non-null   int64  \n",
      " 4   smoker    1338 non-null   object \n",
      " 5   region    1338 non-null   object \n",
      " 6   charges   1338 non-null   float64\n",
      "dtypes: float64(2), int64(2), object(3)\n",
      "memory usage: 73.3+ KB\n"
     ]
    }
   ],
   "source": [
    "df.info()"
   ]
  },
  {
   "cell_type": "code",
   "execution_count": 5,
   "id": "a13bfa3b",
   "metadata": {},
   "outputs": [
    {
     "data": {
      "text/plain": [
       "4"
      ]
     },
     "execution_count": 5,
     "metadata": {},
     "output_type": "execute_result"
    }
   ],
   "source": [
    "df.region.nunique()"
   ]
  },
  {
   "cell_type": "code",
   "execution_count": 6,
   "id": "6504e512",
   "metadata": {},
   "outputs": [
    {
     "data": {
      "text/plain": [
       "age         0\n",
       "sex         0\n",
       "bmi         0\n",
       "children    0\n",
       "smoker      0\n",
       "region      0\n",
       "charges     0\n",
       "dtype: int64"
      ]
     },
     "execution_count": 6,
     "metadata": {},
     "output_type": "execute_result"
    }
   ],
   "source": [
    "df.isnull().sum()"
   ]
  },
  {
   "cell_type": "code",
   "execution_count": 7,
   "id": "b0b77886",
   "metadata": {},
   "outputs": [],
   "source": [
    "df1 = df.copy()"
   ]
  },
  {
   "cell_type": "code",
   "execution_count": null,
   "id": "9b8de94a",
   "metadata": {},
   "outputs": [],
   "source": []
  },
  {
   "cell_type": "markdown",
   "id": "a12a45c4",
   "metadata": {},
   "source": [
    "# Encoding"
   ]
  },
  {
   "cell_type": "code",
   "execution_count": 8,
   "id": "d4cfc943",
   "metadata": {},
   "outputs": [],
   "source": [
    "from pandas.core.dtypes.common import is_numeric_dtype\n",
    "from sklearn.preprocessing import LabelEncoder\n",
    "le = LabelEncoder()"
   ]
  },
  {
   "cell_type": "code",
   "execution_count": 9,
   "id": "6ee6e23a",
   "metadata": {},
   "outputs": [],
   "source": [
    "for col in df1.columns:\n",
    "    if is_numeric_dtype(df1[col]):\n",
    "        continue\n",
    "    else:\n",
    "        df1[col]= le.fit_transform(df1[col])\n"
   ]
  },
  {
   "cell_type": "code",
   "execution_count": 10,
   "id": "92a98fe6",
   "metadata": {},
   "outputs": [
    {
     "data": {
      "text/html": [
       "<div>\n",
       "<style scoped>\n",
       "    .dataframe tbody tr th:only-of-type {\n",
       "        vertical-align: middle;\n",
       "    }\n",
       "\n",
       "    .dataframe tbody tr th {\n",
       "        vertical-align: top;\n",
       "    }\n",
       "\n",
       "    .dataframe thead th {\n",
       "        text-align: right;\n",
       "    }\n",
       "</style>\n",
       "<table border=\"1\" class=\"dataframe\">\n",
       "  <thead>\n",
       "    <tr style=\"text-align: right;\">\n",
       "      <th></th>\n",
       "      <th>age</th>\n",
       "      <th>sex</th>\n",
       "      <th>bmi</th>\n",
       "      <th>children</th>\n",
       "      <th>smoker</th>\n",
       "      <th>region</th>\n",
       "      <th>charges</th>\n",
       "    </tr>\n",
       "  </thead>\n",
       "  <tbody>\n",
       "    <tr>\n",
       "      <th>0</th>\n",
       "      <td>19</td>\n",
       "      <td>0</td>\n",
       "      <td>27.900</td>\n",
       "      <td>0</td>\n",
       "      <td>1</td>\n",
       "      <td>3</td>\n",
       "      <td>16884.92400</td>\n",
       "    </tr>\n",
       "    <tr>\n",
       "      <th>1</th>\n",
       "      <td>18</td>\n",
       "      <td>1</td>\n",
       "      <td>33.770</td>\n",
       "      <td>1</td>\n",
       "      <td>0</td>\n",
       "      <td>2</td>\n",
       "      <td>1725.55230</td>\n",
       "    </tr>\n",
       "    <tr>\n",
       "      <th>2</th>\n",
       "      <td>28</td>\n",
       "      <td>1</td>\n",
       "      <td>33.000</td>\n",
       "      <td>3</td>\n",
       "      <td>0</td>\n",
       "      <td>2</td>\n",
       "      <td>4449.46200</td>\n",
       "    </tr>\n",
       "    <tr>\n",
       "      <th>3</th>\n",
       "      <td>33</td>\n",
       "      <td>1</td>\n",
       "      <td>22.705</td>\n",
       "      <td>0</td>\n",
       "      <td>0</td>\n",
       "      <td>1</td>\n",
       "      <td>21984.47061</td>\n",
       "    </tr>\n",
       "    <tr>\n",
       "      <th>4</th>\n",
       "      <td>32</td>\n",
       "      <td>1</td>\n",
       "      <td>28.880</td>\n",
       "      <td>0</td>\n",
       "      <td>0</td>\n",
       "      <td>1</td>\n",
       "      <td>3866.85520</td>\n",
       "    </tr>\n",
       "    <tr>\n",
       "      <th>5</th>\n",
       "      <td>31</td>\n",
       "      <td>0</td>\n",
       "      <td>25.740</td>\n",
       "      <td>0</td>\n",
       "      <td>0</td>\n",
       "      <td>2</td>\n",
       "      <td>3756.62160</td>\n",
       "    </tr>\n",
       "    <tr>\n",
       "      <th>6</th>\n",
       "      <td>46</td>\n",
       "      <td>0</td>\n",
       "      <td>33.440</td>\n",
       "      <td>1</td>\n",
       "      <td>0</td>\n",
       "      <td>2</td>\n",
       "      <td>8240.58960</td>\n",
       "    </tr>\n",
       "    <tr>\n",
       "      <th>7</th>\n",
       "      <td>37</td>\n",
       "      <td>0</td>\n",
       "      <td>27.740</td>\n",
       "      <td>3</td>\n",
       "      <td>0</td>\n",
       "      <td>1</td>\n",
       "      <td>7281.50560</td>\n",
       "    </tr>\n",
       "    <tr>\n",
       "      <th>8</th>\n",
       "      <td>37</td>\n",
       "      <td>1</td>\n",
       "      <td>29.830</td>\n",
       "      <td>2</td>\n",
       "      <td>0</td>\n",
       "      <td>0</td>\n",
       "      <td>6406.41070</td>\n",
       "    </tr>\n",
       "    <tr>\n",
       "      <th>9</th>\n",
       "      <td>60</td>\n",
       "      <td>0</td>\n",
       "      <td>25.840</td>\n",
       "      <td>0</td>\n",
       "      <td>0</td>\n",
       "      <td>1</td>\n",
       "      <td>28923.13692</td>\n",
       "    </tr>\n",
       "    <tr>\n",
       "      <th>10</th>\n",
       "      <td>25</td>\n",
       "      <td>1</td>\n",
       "      <td>26.220</td>\n",
       "      <td>0</td>\n",
       "      <td>0</td>\n",
       "      <td>0</td>\n",
       "      <td>2721.32080</td>\n",
       "    </tr>\n",
       "    <tr>\n",
       "      <th>11</th>\n",
       "      <td>62</td>\n",
       "      <td>0</td>\n",
       "      <td>26.290</td>\n",
       "      <td>0</td>\n",
       "      <td>1</td>\n",
       "      <td>2</td>\n",
       "      <td>27808.72510</td>\n",
       "    </tr>\n",
       "    <tr>\n",
       "      <th>12</th>\n",
       "      <td>23</td>\n",
       "      <td>1</td>\n",
       "      <td>34.400</td>\n",
       "      <td>0</td>\n",
       "      <td>0</td>\n",
       "      <td>3</td>\n",
       "      <td>1826.84300</td>\n",
       "    </tr>\n",
       "    <tr>\n",
       "      <th>13</th>\n",
       "      <td>56</td>\n",
       "      <td>0</td>\n",
       "      <td>39.820</td>\n",
       "      <td>0</td>\n",
       "      <td>0</td>\n",
       "      <td>2</td>\n",
       "      <td>11090.71780</td>\n",
       "    </tr>\n",
       "    <tr>\n",
       "      <th>14</th>\n",
       "      <td>27</td>\n",
       "      <td>1</td>\n",
       "      <td>42.130</td>\n",
       "      <td>0</td>\n",
       "      <td>1</td>\n",
       "      <td>2</td>\n",
       "      <td>39611.75770</td>\n",
       "    </tr>\n",
       "    <tr>\n",
       "      <th>15</th>\n",
       "      <td>19</td>\n",
       "      <td>1</td>\n",
       "      <td>24.600</td>\n",
       "      <td>1</td>\n",
       "      <td>0</td>\n",
       "      <td>3</td>\n",
       "      <td>1837.23700</td>\n",
       "    </tr>\n",
       "    <tr>\n",
       "      <th>16</th>\n",
       "      <td>52</td>\n",
       "      <td>0</td>\n",
       "      <td>30.780</td>\n",
       "      <td>1</td>\n",
       "      <td>0</td>\n",
       "      <td>0</td>\n",
       "      <td>10797.33620</td>\n",
       "    </tr>\n",
       "    <tr>\n",
       "      <th>17</th>\n",
       "      <td>23</td>\n",
       "      <td>1</td>\n",
       "      <td>23.845</td>\n",
       "      <td>0</td>\n",
       "      <td>0</td>\n",
       "      <td>0</td>\n",
       "      <td>2395.17155</td>\n",
       "    </tr>\n",
       "    <tr>\n",
       "      <th>18</th>\n",
       "      <td>56</td>\n",
       "      <td>1</td>\n",
       "      <td>40.300</td>\n",
       "      <td>0</td>\n",
       "      <td>0</td>\n",
       "      <td>3</td>\n",
       "      <td>10602.38500</td>\n",
       "    </tr>\n",
       "    <tr>\n",
       "      <th>19</th>\n",
       "      <td>30</td>\n",
       "      <td>1</td>\n",
       "      <td>35.300</td>\n",
       "      <td>0</td>\n",
       "      <td>1</td>\n",
       "      <td>3</td>\n",
       "      <td>36837.46700</td>\n",
       "    </tr>\n",
       "  </tbody>\n",
       "</table>\n",
       "</div>"
      ],
      "text/plain": [
       "    age  sex     bmi  children  smoker  region      charges\n",
       "0    19    0  27.900         0       1       3  16884.92400\n",
       "1    18    1  33.770         1       0       2   1725.55230\n",
       "2    28    1  33.000         3       0       2   4449.46200\n",
       "3    33    1  22.705         0       0       1  21984.47061\n",
       "4    32    1  28.880         0       0       1   3866.85520\n",
       "5    31    0  25.740         0       0       2   3756.62160\n",
       "6    46    0  33.440         1       0       2   8240.58960\n",
       "7    37    0  27.740         3       0       1   7281.50560\n",
       "8    37    1  29.830         2       0       0   6406.41070\n",
       "9    60    0  25.840         0       0       1  28923.13692\n",
       "10   25    1  26.220         0       0       0   2721.32080\n",
       "11   62    0  26.290         0       1       2  27808.72510\n",
       "12   23    1  34.400         0       0       3   1826.84300\n",
       "13   56    0  39.820         0       0       2  11090.71780\n",
       "14   27    1  42.130         0       1       2  39611.75770\n",
       "15   19    1  24.600         1       0       3   1837.23700\n",
       "16   52    0  30.780         1       0       0  10797.33620\n",
       "17   23    1  23.845         0       0       0   2395.17155\n",
       "18   56    1  40.300         0       0       3  10602.38500\n",
       "19   30    1  35.300         0       1       3  36837.46700"
      ]
     },
     "execution_count": 10,
     "metadata": {},
     "output_type": "execute_result"
    }
   ],
   "source": [
    "df1.head(20)"
   ]
  },
  {
   "cell_type": "code",
   "execution_count": 11,
   "id": "28d890bf",
   "metadata": {},
   "outputs": [
    {
     "data": {
      "text/plain": [
       "<matplotlib.collections.PathCollection at 0x1b6cd082af0>"
      ]
     },
     "execution_count": 11,
     "metadata": {},
     "output_type": "execute_result"
    },
    {
     "data": {
      "image/png": "[encoded data removed]",
      "text/plain": [
       "<Figure size 432x288 with 1 Axes>"
      ]
     },
     "metadata": {
      "needs_background": "light"
     },
     "output_type": "display_data"
    }
   ],
   "source": [
    "plt.scatter(df1['smoker'],df1['charges'],color= 'red',marker='*')"
   ]
  },
  {
   "cell_type": "code",
   "execution_count": 12,
   "id": "09f8a839",
   "metadata": {},
   "outputs": [
    {
     "data": {
      "text/plain": [
       "<matplotlib.collections.PathCollection at 0x1b6ccd4dbb0>"
      ]
     },
     "execution_count": 12,
     "metadata": {},
     "output_type": "execute_result"
    },
    {
     "data": {
      "image/png": "[encoded data removed]",
      "text/plain": [
       "<Figure size 432x288 with 1 Axes>"
      ]
     },
     "metadata": {
      "needs_background": "light"
     },
     "output_type": "display_data"
    }
   ],
   "source": [
    "plt.scatter(df1['children'],df1['charges'],color= 'green',marker='*')"
   ]
  },
  {
   "cell_type": "code",
   "execution_count": 13,
   "id": "7126ba89",
   "metadata": {},
   "outputs": [
    {
     "data": {
      "text/plain": [
       "<matplotlib.collections.PathCollection at 0x1b6cd8267c0>"
      ]
     },
     "execution_count": 13,
     "metadata": {},
     "output_type": "execute_result"
    },
    {
     "data": {
      "image/png": "[encoded data removed]",
      "text/plain": [
       "<Figure size 432x288 with 1 Axes>"
      ]
     },
     "metadata": {
      "needs_background": "light"
     },
     "output_type": "display_data"
    }
   ],
   "source": [
    "plt.scatter(df['region'],df1['charges'],color= 'blue',marker='*')"
   ]
  },
  {
   "cell_type": "code",
   "execution_count": 14,
   "id": "0fd322d2",
   "metadata": {},
   "outputs": [
    {
     "data": {
      "text/plain": [
       "<matplotlib.collections.PathCollection at 0x1b6cd8f6eb0>"
      ]
     },
     "execution_count": 14,
     "metadata": {},
     "output_type": "execute_result"
    },
    {
     "data": {
      "image/png": "[encoded data removed]",
      "text/plain": [
       "<Figure size 432x288 with 1 Axes>"
      ]
     },
     "metadata": {
      "needs_background": "light"
     },
     "output_type": "display_data"
    }
   ],
   "source": [
    "plt.scatter(df1['age'],df1['charges'],color= 'green',marker='*')"
   ]
  },
  {
   "cell_type": "code",
   "execution_count": 15,
   "id": "72525db6",
   "metadata": {},
   "outputs": [
    {
     "data": {
      "text/html": [
       "<div>\n",
       "<style scoped>\n",
       "    .dataframe tbody tr th:only-of-type {\n",
       "        vertical-align: middle;\n",
       "    }\n",
       "\n",
       "    .dataframe tbody tr th {\n",
       "        vertical-align: top;\n",
       "    }\n",
       "\n",
       "    .dataframe thead th {\n",
       "        text-align: right;\n",
       "    }\n",
       "</style>\n",
       "<table border=\"1\" class=\"dataframe\">\n",
       "  <thead>\n",
       "    <tr style=\"text-align: right;\">\n",
       "      <th></th>\n",
       "      <th>age</th>\n",
       "      <th>sex</th>\n",
       "      <th>bmi</th>\n",
       "      <th>children</th>\n",
       "      <th>smoker</th>\n",
       "      <th>region</th>\n",
       "    </tr>\n",
       "  </thead>\n",
       "  <tbody>\n",
       "    <tr>\n",
       "      <th>0</th>\n",
       "      <td>19</td>\n",
       "      <td>0</td>\n",
       "      <td>27.900</td>\n",
       "      <td>0</td>\n",
       "      <td>1</td>\n",
       "      <td>3</td>\n",
       "    </tr>\n",
       "    <tr>\n",
       "      <th>1</th>\n",
       "      <td>18</td>\n",
       "      <td>1</td>\n",
       "      <td>33.770</td>\n",
       "      <td>1</td>\n",
       "      <td>0</td>\n",
       "      <td>2</td>\n",
       "    </tr>\n",
       "    <tr>\n",
       "      <th>2</th>\n",
       "      <td>28</td>\n",
       "      <td>1</td>\n",
       "      <td>33.000</td>\n",
       "      <td>3</td>\n",
       "      <td>0</td>\n",
       "      <td>2</td>\n",
       "    </tr>\n",
       "    <tr>\n",
       "      <th>3</th>\n",
       "      <td>33</td>\n",
       "      <td>1</td>\n",
       "      <td>22.705</td>\n",
       "      <td>0</td>\n",
       "      <td>0</td>\n",
       "      <td>1</td>\n",
       "    </tr>\n",
       "    <tr>\n",
       "      <th>4</th>\n",
       "      <td>32</td>\n",
       "      <td>1</td>\n",
       "      <td>28.880</td>\n",
       "      <td>0</td>\n",
       "      <td>0</td>\n",
       "      <td>1</td>\n",
       "    </tr>\n",
       "  </tbody>\n",
       "</table>\n",
       "</div>"
      ],
      "text/plain": [
       "   age  sex     bmi  children  smoker  region\n",
       "0   19    0  27.900         0       1       3\n",
       "1   18    1  33.770         1       0       2\n",
       "2   28    1  33.000         3       0       2\n",
       "3   33    1  22.705         0       0       1\n",
       "4   32    1  28.880         0       0       1"
      ]
     },
     "execution_count": 15,
     "metadata": {},
     "output_type": "execute_result"
    }
   ],
   "source": [
    "x=df1.drop('charges', axis=1)\n",
    "x.head()"
   ]
  },
  {
   "cell_type": "code",
   "execution_count": 16,
   "id": "999156b1",
   "metadata": {},
   "outputs": [
    {
     "data": {
      "text/plain": [
       "0    16884.92400\n",
       "1     1725.55230\n",
       "2     4449.46200\n",
       "3    21984.47061\n",
       "4     3866.85520\n",
       "Name: charges, dtype: float64"
      ]
     },
     "execution_count": 16,
     "metadata": {},
     "output_type": "execute_result"
    }
   ],
   "source": [
    "y=df1['charges']\n",
    "y.head()"
   ]
  },
  {
   "cell_type": "markdown",
   "id": "b00b5107",
   "metadata": {},
   "source": [
    "# Least Square Method"
   ]
  },
  {
   "cell_type": "code",
   "execution_count": 17,
   "id": "76002dde",
   "metadata": {},
   "outputs": [
    {
     "data": {
      "text/plain": [
       "LinearRegression()"
      ]
     },
     "execution_count": 17,
     "metadata": {},
     "output_type": "execute_result"
    }
   ],
   "source": [
    "from sklearn.model_selection import train_test_split \n",
    "xtrain, xtest, ytrain, ytest=train_test_split(x,y,test_size=0.30,random_state=2)\n",
    "\n",
    "\n",
    "\n",
    "from sklearn.linear_model import LinearRegression\n",
    "reg=LinearRegression()\n",
    "\n",
    "reg.fit(xtrain,ytrain)"
   ]
  },
  {
   "cell_type": "code",
   "execution_count": 18,
   "id": "18b1ab6d",
   "metadata": {},
   "outputs": [
    {
     "data": {
      "text/html": [
       "<div>\n",
       "<style scoped>\n",
       "    .dataframe tbody tr th:only-of-type {\n",
       "        vertical-align: middle;\n",
       "    }\n",
       "\n",
       "    .dataframe tbody tr th {\n",
       "        vertical-align: top;\n",
       "    }\n",
       "\n",
       "    .dataframe thead th {\n",
       "        text-align: right;\n",
       "    }\n",
       "</style>\n",
       "<table border=\"1\" class=\"dataframe\">\n",
       "  <thead>\n",
       "    <tr style=\"text-align: right;\">\n",
       "      <th></th>\n",
       "      <th>age</th>\n",
       "      <th>sex</th>\n",
       "      <th>bmi</th>\n",
       "      <th>children</th>\n",
       "      <th>smoker</th>\n",
       "      <th>region</th>\n",
       "    </tr>\n",
       "  </thead>\n",
       "  <tbody>\n",
       "    <tr>\n",
       "      <th>355</th>\n",
       "      <td>46</td>\n",
       "      <td>1</td>\n",
       "      <td>27.600</td>\n",
       "      <td>0</td>\n",
       "      <td>0</td>\n",
       "      <td>3</td>\n",
       "    </tr>\n",
       "    <tr>\n",
       "      <th>477</th>\n",
       "      <td>25</td>\n",
       "      <td>1</td>\n",
       "      <td>35.625</td>\n",
       "      <td>0</td>\n",
       "      <td>0</td>\n",
       "      <td>1</td>\n",
       "    </tr>\n",
       "    <tr>\n",
       "      <th>1156</th>\n",
       "      <td>19</td>\n",
       "      <td>1</td>\n",
       "      <td>44.880</td>\n",
       "      <td>0</td>\n",
       "      <td>1</td>\n",
       "      <td>2</td>\n",
       "    </tr>\n",
       "    <tr>\n",
       "      <th>663</th>\n",
       "      <td>18</td>\n",
       "      <td>1</td>\n",
       "      <td>33.660</td>\n",
       "      <td>0</td>\n",
       "      <td>0</td>\n",
       "      <td>2</td>\n",
       "    </tr>\n",
       "    <tr>\n",
       "      <th>1216</th>\n",
       "      <td>40</td>\n",
       "      <td>1</td>\n",
       "      <td>25.080</td>\n",
       "      <td>0</td>\n",
       "      <td>0</td>\n",
       "      <td>2</td>\n",
       "    </tr>\n",
       "  </tbody>\n",
       "</table>\n",
       "</div>"
      ],
      "text/plain": [
       "      age  sex     bmi  children  smoker  region\n",
       "355    46    1  27.600         0       0       3\n",
       "477    25    1  35.625         0       0       1\n",
       "1156   19    1  44.880         0       1       2\n",
       "663    18    1  33.660         0       0       2\n",
       "1216   40    1  25.080         0       0       2"
      ]
     },
     "execution_count": 18,
     "metadata": {},
     "output_type": "execute_result"
    }
   ],
   "source": [
    "xtrain.head()"
   ]
  },
  {
   "cell_type": "code",
   "execution_count": 19,
   "id": "c95bbfaa",
   "metadata": {},
   "outputs": [
    {
     "data": {
      "text/plain": [
       "array([ 2.02608979e+03,  1.20507841e+04,  1.04921330e+04,  2.49302173e+03,\n",
       "        8.31941250e+03,  1.14367049e+04,  3.48622203e+03,  1.35989419e+03,\n",
       "        1.19520218e+04,  9.67206698e+03,  1.14503622e+04,  5.35763549e+03,\n",
       "        2.95049938e+04, -2.48372597e+02,  1.30521770e+04,  1.32515720e+04,\n",
       "        4.29597668e+03,  8.01020318e+03,  2.89698460e+04,  3.09798751e+03,\n",
       "        1.23535332e+04,  1.91619908e+03,  3.35553389e+04,  3.17588653e+04,\n",
       "        3.00973589e+04,  8.24819529e+03,  2.51477781e+03,  1.55847964e+04,\n",
       "        6.28365677e+03,  2.04819304e+03,  9.78710532e+03,  5.89204142e+03,\n",
       "        4.01084592e+03,  4.90345937e+03,  9.73944860e+03,  5.04646500e+03,\n",
       "        2.98042637e+04,  6.25834976e+03,  2.72304583e+04,  1.39780589e+04,\n",
       "        3.03013569e+02,  2.74321178e+04,  7.76323797e+03,  1.09412926e+03,\n",
       "        1.05663495e+04,  7.71047976e+03,  1.14876649e+04,  8.48749838e+03,\n",
       "        1.11697412e+04,  1.32506430e+04,  6.53137086e+03, -1.28626709e+03,\n",
       "        2.58530514e+04,  3.64133294e+04,  6.90930418e+03,  1.76114266e+04,\n",
       "        8.68911311e+02,  1.12573402e+04,  1.78751865e+03,  3.36746463e+04,\n",
       "        1.12557667e+04,  3.70257913e+02,  4.08409456e+03,  3.55762649e+04,\n",
       "       -1.59694911e+03,  1.43921449e+04,  1.42636691e+04,  3.75102230e+03,\n",
       "        1.29621109e+04,  1.12667375e+04,  1.10338797e+04,  1.63544180e+04,\n",
       "        9.96954541e+03,  9.58949637e+03,  1.56028705e+04,  1.19475706e+04,\n",
       "        4.13190905e+03,  3.67872221e+03,  5.56062910e+03,  1.31379341e+04,\n",
       "        8.41139595e+03,  1.24092643e+04,  1.00800787e+04,  2.67416165e+04,\n",
       "        1.26833684e+04,  3.96266413e+03,  3.79901994e+04,  1.08251768e+04,\n",
       "        8.38371762e+03,  1.14267744e+04,  1.15259159e+04,  1.44857149e+04,\n",
       "        1.12638828e+04,  1.36440777e+04,  6.02254247e+03,  2.53535615e+04,\n",
       "        5.15655719e+03,  1.07144801e+04,  3.21054245e+03,  2.85629318e+04,\n",
       "        7.27936369e+03,  3.73432710e+03,  2.12461890e+03,  1.61517797e+04,\n",
       "        7.83189081e+03,  9.47431251e+03,  9.91725835e+03,  5.28156674e+03,\n",
       "        1.54055403e+04,  3.37146608e+04,  4.18788834e+03,  1.08476526e+04,\n",
       "        2.46149020e+04,  1.54982809e+04,  2.44210324e+03,  1.00854119e+04,\n",
       "        8.81090144e+03,  6.27655124e+03,  1.12499557e+04,  2.84745806e+04,\n",
       "        5.87097108e+03,  6.67363239e+03,  1.62234622e+04,  1.68048896e+04,\n",
       "        8.74079964e+03,  2.62886076e+04,  3.45471316e+04,  1.14203668e+04,\n",
       "        8.01196878e+03,  9.81003503e+03,  8.28955023e+03,  3.51955664e+03,\n",
       "        3.05581230e+03,  4.69146635e+03,  8.35481712e+03,  8.70916848e+03,\n",
       "        7.32414546e+03,  2.85099476e+04,  3.42153447e+04,  4.03574285e+03,\n",
       "        2.69684304e+04,  4.32041868e+03,  6.73510532e+03,  1.35013369e+04,\n",
       "        7.53216740e+03,  3.62596676e+04,  1.18015955e+04,  1.11486930e+04,\n",
       "        8.18956275e+03,  2.20707727e+01,  6.18905077e+03,  7.53117006e+03,\n",
       "        5.08443725e+03,  1.10383637e+04,  1.13906592e+04,  1.55989890e+04,\n",
       "        6.40987332e+03,  2.76895772e+04,  1.89928894e+03,  1.19346742e+04,\n",
       "        1.75318437e+04,  1.39730447e+04,  8.96839086e+03,  2.89324141e+03,\n",
       "        4.47640892e+03,  9.14758958e+03,  1.92740658e+04,  2.81531221e+04,\n",
       "        1.29412186e+04,  3.18153637e+03,  3.26505243e+04,  1.26818958e+04,\n",
       "        3.30006195e+04,  3.42668419e+04,  1.16776411e+04,  7.05932465e+03,\n",
       "        3.14414196e+03,  3.09798751e+03,  1.18531174e+04,  7.51529798e+03,\n",
       "        2.90938832e+03,  1.09063960e+03,  3.11000237e+04,  7.16077880e+03,\n",
       "        5.94110373e+03,  2.67718543e+04,  7.25011618e+03,  2.90686029e+03,\n",
       "        8.11512257e+03,  3.47297011e+04,  8.00027748e+03,  4.61861765e+03,\n",
       "        9.74474679e+03,  2.68707618e+04,  6.35919110e+03,  3.97910601e+04,\n",
       "        3.62731907e+04,  1.35511763e+04,  2.63904933e+04,  1.23668844e+04,\n",
       "        3.72869262e+04,  7.23627442e+03,  4.21849660e+03,  2.03296531e+03,\n",
       "        1.46390946e+04,  1.38121105e+04,  2.75022276e+03,  3.51460392e+04,\n",
       "        1.23474964e+04,  8.76912290e+03,  6.74970155e+02,  3.02928622e+04,\n",
       "        3.95948882e+03,  3.86433135e+03,  1.23455524e+04,  1.49185680e+04,\n",
       "        2.86419731e+04, -6.02278167e+02,  3.56554735e+03,  8.37859058e+03,\n",
       "        3.97491176e+04,  8.66476035e+03,  3.51696243e+04,  2.62311781e+04,\n",
       "        1.35615986e+04,  2.85702266e+04,  1.73755319e+04,  7.73823014e+03,\n",
       "        1.63174351e+04,  7.42226750e+03,  1.06925984e+04,  3.21539502e+03,\n",
       "        8.42520919e+03,  1.82451900e+03,  3.22980229e+04,  3.15734169e+04,\n",
       "        1.43645939e+04,  1.11173409e+04,  1.59001859e+03,  6.23133482e+03,\n",
       "        1.07806476e+04,  4.50555084e+03,  1.04627551e+04,  4.60638395e+02,\n",
       "        3.41872664e+04,  3.17920748e+04,  1.03490489e+04,  2.59683145e+04,\n",
       "        1.27338450e+04,  2.28174598e+03,  1.07825925e+04,  3.16357594e+03,\n",
       "        8.25415384e+03,  1.01539213e+04,  1.67002747e+04,  5.90284328e+03,\n",
       "        1.03305862e+04, -1.68978844e+01, -1.91896228e+03,  1.47535090e+03,\n",
       "        2.73565925e+04,  3.33857896e+04,  3.74258883e+04, -2.15674166e+03,\n",
       "        1.62463481e+04,  3.61929514e+04,  1.31807660e+04,  3.33702321e+04,\n",
       "        1.07715296e+03,  9.30641422e+03,  1.26652849e+04,  1.68251577e+03,\n",
       "        1.09497061e+04,  3.84060104e+04,  8.39325658e+03,  1.24824294e+04,\n",
       "        9.59031973e+03,  3.21775636e+04,  9.42436419e+03,  3.11666431e+04,\n",
       "        3.19211404e+03,  6.39526638e+03,  1.78906451e+03,  5.54289971e+03,\n",
       "        3.83424593e+04,  2.48207075e+04,  3.44119378e+04,  1.11249196e+04,\n",
       "        1.36316955e+04,  1.84601642e+04,  5.47606561e+03,  7.36427400e+03,\n",
       "        1.20050927e+04,  1.49583457e+04,  4.17487601e+03,  2.79732983e+03,\n",
       "        9.25796997e+03,  8.30019132e+03,  1.00223230e+04,  7.92233027e+03,\n",
       "        2.95990978e+03,  1.00679035e+04,  3.00154514e+04,  6.23601137e+03,\n",
       "        4.50338305e+03,  3.75886256e+03,  1.01788793e+04,  1.05416418e+04,\n",
       "        3.82136466e+04,  8.27472663e+03,  1.38668725e+04,  1.20436065e+04,\n",
       "        9.75075925e+03,  1.00628788e+03,  2.85851062e+04,  1.37890741e+04,\n",
       "        1.27678554e+04,  1.61490045e+04,  1.02074297e+04,  9.92257180e+03,\n",
       "        1.39431194e+04,  2.69339102e+04,  1.39200788e+04,  5.62632319e+03,\n",
       "        5.45170511e+03,  9.97685042e+03,  6.63787154e+03,  1.08993007e+04,\n",
       "        7.55483425e+03,  4.73839851e+03,  1.59233469e+04,  2.46826266e+04,\n",
       "        5.76580549e+03,  1.78461629e+04,  8.19170798e+03,  4.14740235e+03,\n",
       "        2.71116382e+04,  3.19240668e+04,  1.15796625e+04,  5.45031991e+03,\n",
       "        1.29364131e+04,  3.15190688e+04,  8.20952354e+02,  1.05620610e+04,\n",
       "        3.39913611e+04,  1.15468683e+04,  5.21887887e+03,  2.92224981e+04,\n",
       "        7.88762279e+03,  1.28126522e+04,  1.01942749e+04,  7.90424386e+03,\n",
       "        5.38821523e+03,  1.07438538e+04,  3.79426719e+03,  8.30114700e+03,\n",
       "        8.44461770e+03,  7.58710358e+03,  3.26915384e+04,  4.69482779e+03,\n",
       "        1.60167886e+04,  1.27041346e+04,  1.09688533e+04,  9.54677558e+03,\n",
       "        3.83409736e+04,  1.40508994e+04,  3.65919909e+04,  1.41954235e+04,\n",
       "        2.38572084e+03,  3.08517133e+04,  9.57769099e+03,  7.48252202e+03,\n",
       "        7.75338064e+03,  2.64261694e+04,  3.66990452e+04,  8.45552127e+03,\n",
       "        1.05548505e+04,  4.05789628e+04,  3.61522915e+03,  1.49258722e+04,\n",
       "        3.81896968e+03,  2.91187288e+04,  7.85706955e+03,  1.71253692e+04,\n",
       "        1.43839534e+04,  2.34282714e+03,  3.59361616e+04,  1.16250242e+04,\n",
       "        1.67500330e+03,  1.21218783e+04,  5.31261986e+03,  1.55398375e+04,\n",
       "        3.59432659e+03,  3.55401062e+04,  6.34092346e+03,  9.02130974e+03,\n",
       "        7.30992089e+03,  4.15875361e+03,  1.14312580e+04,  3.32289375e+04,\n",
       "        3.59359182e+04,  7.03524403e+03])"
      ]
     },
     "execution_count": 19,
     "metadata": {},
     "output_type": "execute_result"
    }
   ],
   "source": [
    "ypredict = reg.predict(xtest)\n",
    "ypredict"
   ]
  },
  {
   "cell_type": "code",
   "execution_count": 20,
   "id": "ad341ffa",
   "metadata": {},
   "outputs": [
    {
     "data": {
      "text/plain": [
       "38010670.32913278"
      ]
     },
     "execution_count": 20,
     "metadata": {},
     "output_type": "execute_result"
    }
   ],
   "source": [
    "from  sklearn.metrics import  mean_squared_error\n",
    "mse= mean_squared_error(ytest,ypredict)\n",
    "mse"
   ]
  },
  {
   "cell_type": "code",
   "execution_count": 21,
   "id": "9cce8894",
   "metadata": {},
   "outputs": [
    {
     "data": {
      "text/plain": [
       "4288.957513559822"
      ]
     },
     "execution_count": 21,
     "metadata": {},
     "output_type": "execute_result"
    }
   ],
   "source": [
    "from  sklearn.metrics import  mean_absolute_error\n",
    "mae= mean_absolute_error(ytest,ypredict)\n",
    "mae"
   ]
  },
  {
   "cell_type": "code",
   "execution_count": 22,
   "id": "8a74604b",
   "metadata": {},
   "outputs": [
    {
     "data": {
      "text/plain": [
       "array([  244.62646566,  -130.61195022,   345.20224913,   614.9484729 ,\n",
       "       23352.82553125,  -416.06331304])"
      ]
     },
     "execution_count": 22,
     "metadata": {},
     "output_type": "execute_result"
    }
   ],
   "source": [
    "m=reg.coef_\n",
    "m"
   ]
  },
  {
   "cell_type": "code",
   "execution_count": 23,
   "id": "cc39bee3",
   "metadata": {},
   "outputs": [
    {
     "data": {
      "text/plain": [
       "-11701.054604981291"
      ]
     },
     "execution_count": 23,
     "metadata": {},
     "output_type": "execute_result"
    }
   ],
   "source": [
    "c=reg.intercept_\n",
    "c"
   ]
  },
  {
   "cell_type": "code",
   "execution_count": 24,
   "id": "4053fa63",
   "metadata": {},
   "outputs": [
    {
     "data": {
      "text/plain": [
       "0.7648415301644245"
      ]
     },
     "execution_count": 24,
     "metadata": {},
     "output_type": "execute_result"
    }
   ],
   "source": [
    "reg.score(xtest,ytest)"
   ]
  },
  {
   "cell_type": "code",
   "execution_count": 25,
   "id": "e447efd2",
   "metadata": {},
   "outputs": [
    {
     "data": {
      "text/plain": [
       "0.7427609364883971"
      ]
     },
     "execution_count": 25,
     "metadata": {},
     "output_type": "execute_result"
    }
   ],
   "source": [
    "reg.score(xtrain, ytrain)"
   ]
  },
  {
   "cell_type": "code",
   "execution_count": 26,
   "id": "9cbb3be0",
   "metadata": {},
   "outputs": [
    {
     "data": {
      "text/plain": [
       "355     24603.04837\n",
       "477      2534.39375\n",
       "1156     39722.7462\n",
       "663       1136.3994\n",
       "1216      5415.6612\n",
       "Name: charges, dtype: object"
      ]
     },
     "execution_count": 26,
     "metadata": {},
     "output_type": "execute_result"
    }
   ],
   "source": [
    "ytrain ['predicted_train_charges']= reg.predict(xtrain)\n",
    "ytrain.head()"
   ]
  },
  {
   "cell_type": "markdown",
   "id": "aeb916dd",
   "metadata": {},
   "source": [
    "# Accuracy"
   ]
  },
  {
   "cell_type": "code",
   "execution_count": 27,
   "id": "0a88b38e",
   "metadata": {},
   "outputs": [
    {
     "data": {
      "text/plain": [
       "76.48415301644245"
      ]
     },
     "execution_count": 27,
     "metadata": {},
     "output_type": "execute_result"
    }
   ],
   "source": [
    "from sklearn.metrics import r2_score\n",
    "score = r2_score(ytest, ypredict)* 100\n",
    "score"
   ]
  },
  {
   "cell_type": "code",
   "execution_count": null,
   "id": "f2b254c6",
   "metadata": {},
   "outputs": [],
   "source": []
  }
 ],
 "metadata": {
  "kernelspec": {
   "display_name": "Python 3 (ipykernel)",
   "language": "python",
   "name": "python3"
  },
  "language_info": {
   "codemirror_mode": {
    "name": "ipython",
    "version": 3
   },
   "file_extension": ".py",
   "mimetype": "text/x-python",
   "name": "python",
   "nbconvert_exporter": "python",
   "pygments_lexer": "ipython3",
   "version": "3.9.12"
  }
 },
 "nbformat": 4,
 "nbformat_minor": 5
}
